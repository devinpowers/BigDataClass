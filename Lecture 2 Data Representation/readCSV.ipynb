{
 "cells": [
  {
   "cell_type": "code",
   "execution_count": 1,
   "metadata": {},
   "outputs": [],
   "source": [
    "with open('vehicle.csv','r') as f:\n",
    "    column_names = f.readline().strip().split(',')\n",
    "    data = []\n",
    "    for line in f:\n",
    "        data.append(line.strip().split(','))\n",
    "        "
   ]
  },
  {
   "cell_type": "code",
   "execution_count": 2,
   "metadata": {},
   "outputs": [
    {
     "data": {
      "text/plain": [
       "['compactness',\n",
       " 'circularity',\n",
       " 'distance_circularity',\n",
       " 'radius_ratio',\n",
       " 'pr_axis_aspect_ratio']"
      ]
     },
     "execution_count": 2,
     "metadata": {},
     "output_type": "execute_result"
    }
   ],
   "source": [
    "column_names[:5]"
   ]
  },
  {
   "cell_type": "code",
   "execution_count": 3,
   "metadata": {},
   "outputs": [
    {
     "data": {
      "text/plain": [
       "['95', '43', '96', '202', '65']"
      ]
     },
     "execution_count": 3,
     "metadata": {},
     "output_type": "execute_result"
    }
   ],
   "source": [
    "data[0][:5]"
   ]
  },
  {
   "cell_type": "code",
   "execution_count": 5,
   "metadata": {},
   "outputs": [],
   "source": [
    "import pandas as p\n",
    "data = p.read_csv('vehicle.csv',header=0)\n",
    "\n",
    "# You can also use read_table instead of read_csv:\n",
    "# data = p.read_table('vehicle.csv',sep=',',header='infer')"
   ]
  },
  {
   "cell_type": "code",
   "execution_count": 4,
   "metadata": {},
   "outputs": [
    {
     "data": {
      "text/html": [
       "<div>\n",
       "<style scoped>\n",
       "    .dataframe tbody tr th:only-of-type {\n",
       "        vertical-align: middle;\n",
       "    }\n",
       "\n",
       "    .dataframe tbody tr th {\n",
       "        vertical-align: top;\n",
       "    }\n",
       "\n",
       "    .dataframe thead th {\n",
       "        text-align: right;\n",
       "    }\n",
       "</style>\n",
       "<table border=\"1\" class=\"dataframe\">\n",
       "  <thead>\n",
       "    <tr style=\"text-align: right;\">\n",
       "      <th></th>\n",
       "      <th>compactness</th>\n",
       "      <th>circularity</th>\n",
       "      <th>distance_circularity</th>\n",
       "      <th>radius_ratio</th>\n",
       "      <th>pr_axis_aspect_ratio</th>\n",
       "      <th>max_length_aspect_ratio</th>\n",
       "      <th>scatter_ratio</th>\n",
       "      <th>elongatedness</th>\n",
       "      <th>pr_axisrectangular</th>\n",
       "      <th>lengthrectangular</th>\n",
       "      <th>majorvariance</th>\n",
       "      <th>minorvariance</th>\n",
       "      <th>gyrationradius</th>\n",
       "      <th>majorskewness</th>\n",
       "      <th>minorskewness</th>\n",
       "      <th>minorkurtosis</th>\n",
       "      <th>majorkurtosis</th>\n",
       "      <th>hollows_ratio</th>\n",
       "      <th>class</th>\n",
       "    </tr>\n",
       "  </thead>\n",
       "  <tbody>\n",
       "    <tr>\n",
       "      <th>0</th>\n",
       "      <td>95</td>\n",
       "      <td>43</td>\n",
       "      <td>96</td>\n",
       "      <td>202</td>\n",
       "      <td>65</td>\n",
       "      <td>10</td>\n",
       "      <td>189</td>\n",
       "      <td>35</td>\n",
       "      <td>22</td>\n",
       "      <td>143</td>\n",
       "      <td>217</td>\n",
       "      <td>534</td>\n",
       "      <td>166</td>\n",
       "      <td>71</td>\n",
       "      <td>6</td>\n",
       "      <td>27</td>\n",
       "      <td>190</td>\n",
       "      <td>197</td>\n",
       "      <td>opel</td>\n",
       "    </tr>\n",
       "    <tr>\n",
       "      <th>1</th>\n",
       "      <td>96</td>\n",
       "      <td>52</td>\n",
       "      <td>104</td>\n",
       "      <td>222</td>\n",
       "      <td>67</td>\n",
       "      <td>9</td>\n",
       "      <td>198</td>\n",
       "      <td>33</td>\n",
       "      <td>23</td>\n",
       "      <td>163</td>\n",
       "      <td>217</td>\n",
       "      <td>589</td>\n",
       "      <td>226</td>\n",
       "      <td>67</td>\n",
       "      <td>12</td>\n",
       "      <td>20</td>\n",
       "      <td>192</td>\n",
       "      <td>201</td>\n",
       "      <td>opel</td>\n",
       "    </tr>\n",
       "    <tr>\n",
       "      <th>2</th>\n",
       "      <td>107</td>\n",
       "      <td>52</td>\n",
       "      <td>101</td>\n",
       "      <td>218</td>\n",
       "      <td>64</td>\n",
       "      <td>11</td>\n",
       "      <td>202</td>\n",
       "      <td>33</td>\n",
       "      <td>23</td>\n",
       "      <td>164</td>\n",
       "      <td>219</td>\n",
       "      <td>610</td>\n",
       "      <td>192</td>\n",
       "      <td>65</td>\n",
       "      <td>17</td>\n",
       "      <td>2</td>\n",
       "      <td>197</td>\n",
       "      <td>206</td>\n",
       "      <td>opel</td>\n",
       "    </tr>\n",
       "    <tr>\n",
       "      <th>3</th>\n",
       "      <td>97</td>\n",
       "      <td>37</td>\n",
       "      <td>78</td>\n",
       "      <td>181</td>\n",
       "      <td>62</td>\n",
       "      <td>8</td>\n",
       "      <td>161</td>\n",
       "      <td>41</td>\n",
       "      <td>20</td>\n",
       "      <td>131</td>\n",
       "      <td>182</td>\n",
       "      <td>389</td>\n",
       "      <td>117</td>\n",
       "      <td>62</td>\n",
       "      <td>2</td>\n",
       "      <td>28</td>\n",
       "      <td>203</td>\n",
       "      <td>211</td>\n",
       "      <td>opel</td>\n",
       "    </tr>\n",
       "    <tr>\n",
       "      <th>4</th>\n",
       "      <td>96</td>\n",
       "      <td>54</td>\n",
       "      <td>104</td>\n",
       "      <td>175</td>\n",
       "      <td>58</td>\n",
       "      <td>10</td>\n",
       "      <td>215</td>\n",
       "      <td>31</td>\n",
       "      <td>24</td>\n",
       "      <td>175</td>\n",
       "      <td>221</td>\n",
       "      <td>682</td>\n",
       "      <td>222</td>\n",
       "      <td>75</td>\n",
       "      <td>13</td>\n",
       "      <td>23</td>\n",
       "      <td>186</td>\n",
       "      <td>194</td>\n",
       "      <td>opel</td>\n",
       "    </tr>\n",
       "    <tr>\n",
       "      <th>...</th>\n",
       "      <td>...</td>\n",
       "      <td>...</td>\n",
       "      <td>...</td>\n",
       "      <td>...</td>\n",
       "      <td>...</td>\n",
       "      <td>...</td>\n",
       "      <td>...</td>\n",
       "      <td>...</td>\n",
       "      <td>...</td>\n",
       "      <td>...</td>\n",
       "      <td>...</td>\n",
       "      <td>...</td>\n",
       "      <td>...</td>\n",
       "      <td>...</td>\n",
       "      <td>...</td>\n",
       "      <td>...</td>\n",
       "      <td>...</td>\n",
       "      <td>...</td>\n",
       "      <td>...</td>\n",
       "    </tr>\n",
       "    <tr>\n",
       "      <th>841</th>\n",
       "      <td>88</td>\n",
       "      <td>40</td>\n",
       "      <td>55</td>\n",
       "      <td>114</td>\n",
       "      <td>53</td>\n",
       "      <td>7</td>\n",
       "      <td>132</td>\n",
       "      <td>53</td>\n",
       "      <td>18</td>\n",
       "      <td>139</td>\n",
       "      <td>142</td>\n",
       "      <td>249</td>\n",
       "      <td>158</td>\n",
       "      <td>87</td>\n",
       "      <td>0</td>\n",
       "      <td>7</td>\n",
       "      <td>176</td>\n",
       "      <td>183</td>\n",
       "      <td>van</td>\n",
       "    </tr>\n",
       "    <tr>\n",
       "      <th>842</th>\n",
       "      <td>86</td>\n",
       "      <td>39</td>\n",
       "      <td>62</td>\n",
       "      <td>129</td>\n",
       "      <td>59</td>\n",
       "      <td>6</td>\n",
       "      <td>116</td>\n",
       "      <td>57</td>\n",
       "      <td>17</td>\n",
       "      <td>135</td>\n",
       "      <td>137</td>\n",
       "      <td>203</td>\n",
       "      <td>145</td>\n",
       "      <td>64</td>\n",
       "      <td>7</td>\n",
       "      <td>9</td>\n",
       "      <td>199</td>\n",
       "      <td>204</td>\n",
       "      <td>van</td>\n",
       "    </tr>\n",
       "    <tr>\n",
       "      <th>843</th>\n",
       "      <td>94</td>\n",
       "      <td>47</td>\n",
       "      <td>85</td>\n",
       "      <td>333</td>\n",
       "      <td>138</td>\n",
       "      <td>49</td>\n",
       "      <td>155</td>\n",
       "      <td>43</td>\n",
       "      <td>19</td>\n",
       "      <td>155</td>\n",
       "      <td>320</td>\n",
       "      <td>354</td>\n",
       "      <td>187</td>\n",
       "      <td>135</td>\n",
       "      <td>12</td>\n",
       "      <td>9</td>\n",
       "      <td>188</td>\n",
       "      <td>196</td>\n",
       "      <td>van</td>\n",
       "    </tr>\n",
       "    <tr>\n",
       "      <th>844</th>\n",
       "      <td>86</td>\n",
       "      <td>40</td>\n",
       "      <td>66</td>\n",
       "      <td>139</td>\n",
       "      <td>59</td>\n",
       "      <td>7</td>\n",
       "      <td>122</td>\n",
       "      <td>54</td>\n",
       "      <td>17</td>\n",
       "      <td>139</td>\n",
       "      <td>145</td>\n",
       "      <td>225</td>\n",
       "      <td>143</td>\n",
       "      <td>63</td>\n",
       "      <td>7</td>\n",
       "      <td>11</td>\n",
       "      <td>202</td>\n",
       "      <td>208</td>\n",
       "      <td>van</td>\n",
       "    </tr>\n",
       "    <tr>\n",
       "      <th>845</th>\n",
       "      <td>92</td>\n",
       "      <td>38</td>\n",
       "      <td>60</td>\n",
       "      <td>130</td>\n",
       "      <td>62</td>\n",
       "      <td>5</td>\n",
       "      <td>114</td>\n",
       "      <td>58</td>\n",
       "      <td>17</td>\n",
       "      <td>132</td>\n",
       "      <td>135</td>\n",
       "      <td>194</td>\n",
       "      <td>137</td>\n",
       "      <td>72</td>\n",
       "      <td>14</td>\n",
       "      <td>5</td>\n",
       "      <td>190</td>\n",
       "      <td>194</td>\n",
       "      <td>van</td>\n",
       "    </tr>\n",
       "  </tbody>\n",
       "</table>\n",
       "<p>846 rows × 19 columns</p>\n",
       "</div>"
      ],
      "text/plain": [
       "     compactness  circularity  distance_circularity  radius_ratio  \\\n",
       "0             95           43                    96           202   \n",
       "1             96           52                   104           222   \n",
       "2            107           52                   101           218   \n",
       "3             97           37                    78           181   \n",
       "4             96           54                   104           175   \n",
       "..           ...          ...                   ...           ...   \n",
       "841           88           40                    55           114   \n",
       "842           86           39                    62           129   \n",
       "843           94           47                    85           333   \n",
       "844           86           40                    66           139   \n",
       "845           92           38                    60           130   \n",
       "\n",
       "     pr_axis_aspect_ratio  max_length_aspect_ratio  scatter_ratio  \\\n",
       "0                      65                       10            189   \n",
       "1                      67                        9            198   \n",
       "2                      64                       11            202   \n",
       "3                      62                        8            161   \n",
       "4                      58                       10            215   \n",
       "..                    ...                      ...            ...   \n",
       "841                    53                        7            132   \n",
       "842                    59                        6            116   \n",
       "843                   138                       49            155   \n",
       "844                    59                        7            122   \n",
       "845                    62                        5            114   \n",
       "\n",
       "     elongatedness  pr_axisrectangular  lengthrectangular  majorvariance  \\\n",
       "0               35                  22                143            217   \n",
       "1               33                  23                163            217   \n",
       "2               33                  23                164            219   \n",
       "3               41                  20                131            182   \n",
       "4               31                  24                175            221   \n",
       "..             ...                 ...                ...            ...   \n",
       "841             53                  18                139            142   \n",
       "842             57                  17                135            137   \n",
       "843             43                  19                155            320   \n",
       "844             54                  17                139            145   \n",
       "845             58                  17                132            135   \n",
       "\n",
       "     minorvariance  gyrationradius  majorskewness  minorskewness  \\\n",
       "0              534             166             71              6   \n",
       "1              589             226             67             12   \n",
       "2              610             192             65             17   \n",
       "3              389             117             62              2   \n",
       "4              682             222             75             13   \n",
       "..             ...             ...            ...            ...   \n",
       "841            249             158             87              0   \n",
       "842            203             145             64              7   \n",
       "843            354             187            135             12   \n",
       "844            225             143             63              7   \n",
       "845            194             137             72             14   \n",
       "\n",
       "     minorkurtosis  majorkurtosis  hollows_ratio class  \n",
       "0               27            190            197  opel  \n",
       "1               20            192            201  opel  \n",
       "2                2            197            206  opel  \n",
       "3               28            203            211  opel  \n",
       "4               23            186            194  opel  \n",
       "..             ...            ...            ...   ...  \n",
       "841              7            176            183   van  \n",
       "842              9            199            204   van  \n",
       "843              9            188            196   van  \n",
       "844             11            202            208   van  \n",
       "845              5            190            194   van  \n",
       "\n",
       "[846 rows x 19 columns]"
      ]
     },
     "execution_count": 4,
     "metadata": {},
     "output_type": "execute_result"
    }
   ],
   "source": [
    "data"
   ]
  },
  {
   "cell_type": "code",
   "execution_count": 8,
   "metadata": {},
   "outputs": [
    {
     "data": {
      "text/html": [
       "<div>\n",
       "<table border=\"1\" class=\"dataframe\">\n",
       "  <thead>\n",
       "    <tr style=\"text-align: right;\">\n",
       "      <th></th>\n",
       "      <th>compactness</th>\n",
       "      <th>circularity</th>\n",
       "      <th>distance_circularity</th>\n",
       "      <th>radius_ratio</th>\n",
       "      <th>pr_axis_aspect_ratio</th>\n",
       "      <th>max_length_aspect_ratio</th>\n",
       "      <th>scatter_ratio</th>\n",
       "      <th>elongatedness</th>\n",
       "      <th>pr_axisrectangular</th>\n",
       "      <th>lengthrectangular</th>\n",
       "      <th>majorvariance</th>\n",
       "      <th>minorvariance</th>\n",
       "      <th>gyrationradius</th>\n",
       "      <th>majorskewness</th>\n",
       "      <th>minorskewness</th>\n",
       "      <th>minorkurtosis</th>\n",
       "      <th>majorkurtosis</th>\n",
       "      <th>hollows_ratio</th>\n",
       "      <th>class</th>\n",
       "    </tr>\n",
       "  </thead>\n",
       "  <tbody>\n",
       "    <tr>\n",
       "      <th>0</th>\n",
       "      <td>95</td>\n",
       "      <td>43</td>\n",
       "      <td>96</td>\n",
       "      <td>202</td>\n",
       "      <td>65</td>\n",
       "      <td>10</td>\n",
       "      <td>189</td>\n",
       "      <td>35</td>\n",
       "      <td>22</td>\n",
       "      <td>143</td>\n",
       "      <td>217</td>\n",
       "      <td>534</td>\n",
       "      <td>166</td>\n",
       "      <td>71</td>\n",
       "      <td>6</td>\n",
       "      <td>27</td>\n",
       "      <td>190</td>\n",
       "      <td>197</td>\n",
       "      <td>opel</td>\n",
       "    </tr>\n",
       "    <tr>\n",
       "      <th>1</th>\n",
       "      <td>96</td>\n",
       "      <td>52</td>\n",
       "      <td>104</td>\n",
       "      <td>222</td>\n",
       "      <td>67</td>\n",
       "      <td>9</td>\n",
       "      <td>198</td>\n",
       "      <td>33</td>\n",
       "      <td>23</td>\n",
       "      <td>163</td>\n",
       "      <td>217</td>\n",
       "      <td>589</td>\n",
       "      <td>226</td>\n",
       "      <td>67</td>\n",
       "      <td>12</td>\n",
       "      <td>20</td>\n",
       "      <td>192</td>\n",
       "      <td>201</td>\n",
       "      <td>opel</td>\n",
       "    </tr>\n",
       "    <tr>\n",
       "      <th>2</th>\n",
       "      <td>107</td>\n",
       "      <td>52</td>\n",
       "      <td>101</td>\n",
       "      <td>218</td>\n",
       "      <td>64</td>\n",
       "      <td>11</td>\n",
       "      <td>202</td>\n",
       "      <td>33</td>\n",
       "      <td>23</td>\n",
       "      <td>164</td>\n",
       "      <td>219</td>\n",
       "      <td>610</td>\n",
       "      <td>192</td>\n",
       "      <td>65</td>\n",
       "      <td>17</td>\n",
       "      <td>2</td>\n",
       "      <td>197</td>\n",
       "      <td>206</td>\n",
       "      <td>opel</td>\n",
       "    </tr>\n",
       "  </tbody>\n",
       "</table>\n",
       "</div>"
      ],
      "text/plain": [
       "   compactness  circularity  distance_circularity  radius_ratio  \\\n",
       "0           95           43                    96           202   \n",
       "1           96           52                   104           222   \n",
       "2          107           52                   101           218   \n",
       "\n",
       "   pr_axis_aspect_ratio  max_length_aspect_ratio  scatter_ratio  \\\n",
       "0                    65                       10            189   \n",
       "1                    67                        9            198   \n",
       "2                    64                       11            202   \n",
       "\n",
       "   elongatedness  pr_axisrectangular  lengthrectangular  majorvariance  \\\n",
       "0             35                  22                143            217   \n",
       "1             33                  23                163            217   \n",
       "2             33                  23                164            219   \n",
       "\n",
       "   minorvariance  gyrationradius  majorskewness  minorskewness  minorkurtosis  \\\n",
       "0            534             166             71              6             27   \n",
       "1            589             226             67             12             20   \n",
       "2            610             192             65             17              2   \n",
       "\n",
       "   majorkurtosis  hollows_ratio class  \n",
       "0            190            197  opel  \n",
       "1            192            201  opel  \n",
       "2            197            206  opel  "
      ]
     },
     "execution_count": 8,
     "metadata": {},
     "output_type": "execute_result"
    }
   ],
   "source": [
    "data[:3]"
   ]
  },
  {
   "cell_type": "code",
   "execution_count": 9,
   "metadata": {},
   "outputs": [
    {
     "data": {
      "text/html": [
       "<div>\n",
       "<style scoped>\n",
       "    .dataframe tbody tr th:only-of-type {\n",
       "        vertical-align: middle;\n",
       "    }\n",
       "\n",
       "    .dataframe tbody tr th {\n",
       "        vertical-align: top;\n",
       "    }\n",
       "\n",
       "    .dataframe thead th {\n",
       "        text-align: right;\n",
       "    }\n",
       "</style>\n",
       "<table border=\"1\" class=\"dataframe\">\n",
       "  <thead>\n",
       "    <tr style=\"text-align: right;\">\n",
       "      <th></th>\n",
       "      <th>compactness</th>\n",
       "      <th>circularity</th>\n",
       "      <th>radius_ratio</th>\n",
       "    </tr>\n",
       "  </thead>\n",
       "  <tbody>\n",
       "    <tr>\n",
       "      <th>0</th>\n",
       "      <td>95</td>\n",
       "      <td>43</td>\n",
       "      <td>202</td>\n",
       "    </tr>\n",
       "    <tr>\n",
       "      <th>1</th>\n",
       "      <td>96</td>\n",
       "      <td>52</td>\n",
       "      <td>222</td>\n",
       "    </tr>\n",
       "    <tr>\n",
       "      <th>2</th>\n",
       "      <td>107</td>\n",
       "      <td>52</td>\n",
       "      <td>218</td>\n",
       "    </tr>\n",
       "  </tbody>\n",
       "</table>\n",
       "</div>"
      ],
      "text/plain": [
       "   compactness  circularity  radius_ratio\n",
       "0           95           43           202\n",
       "1           96           52           222\n",
       "2          107           52           218"
      ]
     },
     "execution_count": 9,
     "metadata": {},
     "output_type": "execute_result"
    }
   ],
   "source": [
    "data[:3][['compactness','circularity','radius_ratio']]"
   ]
  },
  {
   "cell_type": "code",
   "execution_count": 10,
   "metadata": {},
   "outputs": [
    {
     "data": {
      "text/plain": [
       "array(['compactness', 'circularity', 'distance_circularity',\n",
       "       'radius_ratio', 'pr_axis_aspect_ratio', 'max_length_aspect_ratio',\n",
       "       'scatter_ratio', 'elongatedness', 'pr_axisrectangular',\n",
       "       'lengthrectangular', 'majorvariance', 'minorvariance',\n",
       "       'gyrationradius', 'majorskewness', 'minorskewness',\n",
       "       'minorkurtosis', 'majorkurtosis', 'hollows_ratio', 'class'],\n",
       "      dtype=object)"
      ]
     },
     "execution_count": 10,
     "metadata": {},
     "output_type": "execute_result"
    }
   ],
   "source": [
    "data.columns.values"
   ]
  },
  {
   "cell_type": "code",
   "execution_count": 8,
   "metadata": {},
   "outputs": [
    {
     "data": {
      "text/plain": [
       "(846, 19)"
      ]
     },
     "execution_count": 8,
     "metadata": {},
     "output_type": "execute_result"
    }
   ],
   "source": [
    "data.shape"
   ]
  },
  {
   "cell_type": "code",
   "execution_count": 11,
   "metadata": {},
   "outputs": [],
   "source": [
    "counts = data['class'].value_counts()"
   ]
  },
  {
   "cell_type": "code",
   "execution_count": 12,
   "metadata": {},
   "outputs": [
    {
     "data": {
      "text/plain": [
       "bus     218\n",
       "saab    217\n",
       "opel    212\n",
       "van     199\n",
       "Name: class, dtype: int64"
      ]
     },
     "execution_count": 12,
     "metadata": {},
     "output_type": "execute_result"
    }
   ],
   "source": [
    "counts"
   ]
  },
  {
   "cell_type": "code",
   "execution_count": 15,
   "metadata": {
    "scrolled": true
   },
   "outputs": [
    {
     "data": {
      "text/plain": [
       "<matplotlib.axes._subplots.AxesSubplot at 0x7f9762f72be0>"
      ]
     },
     "execution_count": 15,
     "metadata": {},
     "output_type": "execute_result"
    },
    {
     "data": {
      "image/png": "[encoded data removed]",
      "text/plain": [
       "<Figure size 432x288 with 1 Axes>"
      ]
     },
     "metadata": {
      "needs_background": "light"
     },
     "output_type": "display_data"
    }
   ],
   "source": [
    "%matplotlib inline\n",
    "\n",
    "import matplotlib\n",
    "counts.plot(kind='bar',rot=0)"
   ]
  },
  {
   "cell_type": "code",
   "execution_count": 14,
   "metadata": {},
   "outputs": [],
   "source": [
    "import numpy as np\n",
    "\n",
    "data = np.genfromtxt('vehicle.csv',delimiter=',',skip_header=1)"
   ]
  },
  {
   "cell_type": "code",
   "execution_count": 51,
   "metadata": {},
   "outputs": [
    {
     "data": {
      "text/plain": [
       "numpy.ndarray"
      ]
     },
     "execution_count": 51,
     "metadata": {},
     "output_type": "execute_result"
    }
   ],
   "source": [
    "type(data)"
   ]
  },
  {
   "cell_type": "code",
   "execution_count": 53,
   "metadata": {
    "collapsed": true
   },
   "outputs": [
    {
     "data": {
      "text/plain": [
       "array([[  95.,   43.,   96., ...,  190.,  197.,   nan],\n",
       "       [  96.,   52.,  104., ...,  192.,  201.,   nan],\n",
       "       [ 107.,   52.,  101., ...,  197.,  206.,   nan],\n",
       "       ..., \n",
       "       [  94.,   47.,   85., ...,  188.,  196.,   nan],\n",
       "       [  86.,   40.,   66., ...,  202.,  208.,   nan],\n",
       "       [  92.,   38.,   60., ...,  190.,  194.,   nan]])"
      ]
     },
     "execution_count": 53,
     "metadata": {},
     "output_type": "execute_result"
    }
   ],
   "source": [
    "data"
   ]
  },
  {
   "cell_type": "code",
   "execution_count": 54,
   "metadata": {},
   "outputs": [
    {
     "data": {
      "text/plain": [
       "(846L, 19L)"
      ]
     },
     "execution_count": 54,
     "metadata": {},
     "output_type": "execute_result"
    }
   ],
   "source": [
    "data.shape"
   ]
  },
  {
   "cell_type": "code",
   "execution_count": 67,
   "metadata": {},
   "outputs": [
    {
     "data": {
      "text/plain": [
       "array([[ 95.,  43.],\n",
       "       [ 96.,  52.]])"
      ]
     },
     "execution_count": 67,
     "metadata": {},
     "output_type": "execute_result"
    }
   ],
   "source": [
    "data[:2,:2]         # slicing operation"
   ]
  },
  {
   "cell_type": "code",
   "execution_count": 68,
   "metadata": {},
   "outputs": [
    {
     "data": {
      "text/plain": [
       "array([[ 950.,  430.],\n",
       "       [ 960.,  520.]])"
      ]
     },
     "execution_count": 68,
     "metadata": {},
     "output_type": "execute_result"
    }
   ],
   "source": [
    "data[:2,:2]*10      # scalar multiplication"
   ]
  },
  {
   "cell_type": "code",
   "execution_count": 69,
   "metadata": {},
   "outputs": [
    {
     "data": {
      "text/plain": [
       "array([[ 52., -53.],\n",
       "       [ 44., -52.]])"
      ]
     },
     "execution_count": 69,
     "metadata": {},
     "output_type": "execute_result"
    }
   ],
   "source": [
    "data[:2,:2]-data[:2,1:3]  # element-by-element subtraction"
   ]
  },
  {
   "cell_type": "code",
   "execution_count": 70,
   "metadata": {},
   "outputs": [
    {
     "data": {
      "text/plain": [
       "array([[ 0.01052632,  0.02325581],\n",
       "       [ 0.01041667,  0.01923077]])"
      ]
     },
     "execution_count": 70,
     "metadata": {},
     "output_type": "execute_result"
    }
   ],
   "source": [
    "1/data[:2,:2]           # element-by-element inversion"
   ]
  },
  {
   "cell_type": "code",
   "execution_count": 71,
   "metadata": {},
   "outputs": [
    {
     "data": {
      "text/plain": [
       "array([[ 9.74679434,  6.55743852],\n",
       "       [ 9.79795897,  7.21110255]])"
      ]
     },
     "execution_count": 71,
     "metadata": {},
     "output_type": "execute_result"
    }
   ],
   "source": [
    "data[:2,:2]**0.5        # element-by-element square-root"
   ]
  },
  {
   "cell_type": "code",
   "execution_count": 73,
   "metadata": {},
   "outputs": [
    {
     "data": {
      "text/plain": [
       "array([ 138.,  148.])"
      ]
     },
     "execution_count": 73,
     "metadata": {},
     "output_type": "execute_result"
    }
   ],
   "source": [
    "np.dot(data[:2,:2],np.ones(2))"
   ]
  },
  {
   "cell_type": "code",
   "execution_count": null,
   "metadata": {
    "collapsed": true
   },
   "outputs": [],
   "source": []
  }
 ],
 "metadata": {
  "anaconda-cloud": {},
  "kernelspec": {
   "display_name": "Python 3",
   "language": "python",
   "name": "python3"
  },
  "language_info": {
   "codemirror_mode": {
    "name": "ipython",
    "version": 3
   },
   "file_extension": ".py",
   "mimetype": "text/x-python",
   "name": "python",
   "nbconvert_exporter": "python",
   "pygments_lexer": "ipython3",
   "version": "3.8.3"
  }
 },
 "nbformat": 4,
 "nbformat_minor": 1
}
